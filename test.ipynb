{
 "cells": [
  {
   "cell_type": "code",
   "execution_count": 43,
   "metadata": {},
   "outputs": [],
   "source": [
    "import pandas as pd"
   ]
  },
  {
   "cell_type": "code",
   "execution_count": 44,
   "metadata": {},
   "outputs": [],
   "source": [
    "data =pd.read_csv(\"./data/data_bank.csv\")"
   ]
  },
  {
   "cell_type": "code",
   "execution_count": 46,
   "metadata": {},
   "outputs": [
    {
     "data": {
      "text/html": [
       "<div>\n",
       "<style scoped>\n",
       "    .dataframe tbody tr th:only-of-type {\n",
       "        vertical-align: middle;\n",
       "    }\n",
       "\n",
       "    .dataframe tbody tr th {\n",
       "        vertical-align: top;\n",
       "    }\n",
       "\n",
       "    .dataframe thead th {\n",
       "        text-align: right;\n",
       "    }\n",
       "</style>\n",
       "<table border=\"1\" class=\"dataframe\">\n",
       "  <thead>\n",
       "    <tr style=\"text-align: right;\">\n",
       "      <th></th>\n",
       "      <th>language</th>\n",
       "      <th>url</th>\n",
       "      <th>date</th>\n",
       "      <th>content</th>\n",
       "    </tr>\n",
       "  </thead>\n",
       "  <tbody>\n",
       "    <tr>\n",
       "      <th>0</th>\n",
       "      <td>en</td>\n",
       "      <td>https://www.ecb.europa.eu/pub/pdf/other/SESFOD...</td>\n",
       "      <td>2 February 2024</td>\n",
       "      <td>Error</td>\n",
       "    </tr>\n",
       "    <tr>\n",
       "      <th>1</th>\n",
       "      <td>en</td>\n",
       "      <td>https://www.ecb.europa.eu/stats/ecb_surveys/ba...</td>\n",
       "      <td>23 January 2024</td>\n",
       "      <td>Search in this publication\\nIn the January 202...</td>\n",
       "    </tr>\n",
       "    <tr>\n",
       "      <th>2</th>\n",
       "      <td>en</td>\n",
       "      <td>https://www.ecb.europa.eu/stats/ecb_surveys/ba...</td>\n",
       "      <td>24 October 2023</td>\n",
       "      <td>Search in this publication\\nThe results report...</td>\n",
       "    </tr>\n",
       "    <tr>\n",
       "      <th>3</th>\n",
       "      <td>en</td>\n",
       "      <td>https://www.ecb.europa.eu/pub/pdf/other/SESFOD...</td>\n",
       "      <td>6 October 2023</td>\n",
       "      <td>Error</td>\n",
       "    </tr>\n",
       "    <tr>\n",
       "      <th>4</th>\n",
       "      <td>en</td>\n",
       "      <td>https://www.ecb.europa.eu/stats/ecb_surveys/ba...</td>\n",
       "      <td>25 July 2023</td>\n",
       "      <td>Search in this publication\\nThe results report...</td>\n",
       "    </tr>\n",
       "  </tbody>\n",
       "</table>\n",
       "</div>"
      ],
      "text/plain": [
       "  language                                                url  \\\n",
       "0       en  https://www.ecb.europa.eu/pub/pdf/other/SESFOD...   \n",
       "1       en  https://www.ecb.europa.eu/stats/ecb_surveys/ba...   \n",
       "2       en  https://www.ecb.europa.eu/stats/ecb_surveys/ba...   \n",
       "3       en  https://www.ecb.europa.eu/pub/pdf/other/SESFOD...   \n",
       "4       en  https://www.ecb.europa.eu/stats/ecb_surveys/ba...   \n",
       "\n",
       "              date                                            content  \n",
       "0  2 February 2024                                              Error  \n",
       "1  23 January 2024  Search in this publication\\nIn the January 202...  \n",
       "2  24 October 2023  Search in this publication\\nThe results report...  \n",
       "3   6 October 2023                                              Error  \n",
       "4     25 July 2023  Search in this publication\\nThe results report...  "
      ]
     },
     "execution_count": 46,
     "metadata": {},
     "output_type": "execute_result"
    }
   ],
   "source": [
    "data.head(5)"
   ]
  },
  {
   "cell_type": "code",
   "execution_count": null,
   "metadata": {},
   "outputs": [],
   "source": [
    "# Error c est quand l'article c'est un pdf (pas scrappable)"
   ]
  },
  {
   "cell_type": "code",
   "execution_count": 54,
   "metadata": {},
   "outputs": [
    {
     "name": "stdout",
     "output_type": "stream",
     "text": [
      "https://www.ecb.europa.eu/stats/ecb_surveys/bank_lending_survey/html/ecb.blsurvey2023q3~b960111b2d.en.html\n"
     ]
    }
   ],
   "source": [
    "print(data[\"url\"].iloc[2])"
   ]
  },
  {
   "cell_type": "code",
   "execution_count": 53,
   "metadata": {},
   "outputs": [
    {
     "name": "stdout",
     "output_type": "stream",
     "text": [
      "Search in this publication\n",
      "The results reported in the October 2023 bank lending survey (BLS) relate to changes observed during the third quarter of 2023 and expectations for the fourth quarter of 2023. The survey was conducted between 15 September and 2 October 2023.A total of 157 banks were surveyed in this round, with a response rate of 100%. In addition to results for the euro area as a whole, this report contains results for the four largest euro area countries.[1]\n",
      "A number of ad hoc questions were included in the October 2023 survey. They address the impact of the situation in financial markets on banks’ access to retail and wholesale funding, the impact of the ECB’s monetary policy asset portfolio and TLTRO III on banks and their lending policies, and the impact of key ECB interest rate decisions on bank profitability.\n",
      "In the October 2023 BLS, euro area banks indicated that their credit standards for loans or credit lines to enterprises tightened further in the third quarter of 2023. The cumulative tightening since 2022 has been substantial, which is consistent with the ongoing significant weakening in lending dynamics. The net percentage of banks reporting a tightening moderated somewhat compared with the previous quarter but was slightly larger than banks had expected in the previous quarter. Euro area banks expect a further tightening for loans to firms in the fourth quarter of 2023, albeit at a moderating pace.\n",
      "Banks reported a further net tightening of credit standards for loans to households in the third quarter of 2023, which strongly exceeded previous expectations. For housing loans, the pace of net tightening even picked up compared with the second quarter. Credit standards on loans for consumer credit and other lending tightened further, at a slightly moderating pace. In the fourth quarter of 2023, euro area banks expect credit standards for housing loans to remain broadly unchanged, while a further net tightening is expected for consumer credit and other loans to households.\n",
      "Firms’ net demand for loans continued to decrease substantially in the third quarter of 2023. Similar to recent quarters, the decline in net demand was significantly stronger than expected by banks, mainly driven by lower fixed investment and higher interest rates. The net percentage of banks reporting a decrease was only slightly more contained than the all-time low of the previous quarter. In the fourth quarter of 2023, banks expect a smaller net decrease in demand for loans to firms.\n",
      "The net decrease in housing loan demand remained substantial and stronger than previously expected, albeit smaller than the all-time low in the fourth quarter of 2022. The net decrease in demand for consumer credit was also stronger than expected in the previous quarter. In the fourth quarter of 2023, banks expect a less pronounced decrease in the demand for housing loans and for consumer credit than in the third quarter.\n",
      "The October 2023 BLS contained a number of ad hoc questions. Euro area banks’ access to fundingdeteriorated in all market segments in the third quarter of 2023, especially for access to retail funding. The reduction in ECB’s monetary policy asset portfolio is contributing to a deterioration in euro area banks’ financing and liquidity conditions, resulting in the build-up of further tightening pressure on the supply of credit. Banks indicated a negative impact of the phase-out of TLTRO III on their liquidity and funding conditions over the past six months, leading to a mild tightening effect on terms and conditions and a downward pressure on loan volumes which are expected to intensify in the coming six months. Euro area banks reported a further markedly positive impact of the key ECB interest rate decisions on their net interest margins over the past six months, although the positive impact is expected to gradually abate in the coming six months.\n",
      "In more detail, euro area banks further tightened their credit standards (i.e., banks’ internal guidelines or loan approval criteria) in net terms for loans or credit lines to enterprises in the third quarter of 2023 (net percentage of banks at 12%, after 14% in the second quarter of 2023; see Overview table). The cumulated tightening since 2022 has been substantial, which is consistent with the ongoing significant weakening in lending dynamics. Banks’ risk perceptions continued to have the largest tightening impact, while banks’ lower risk tolerance also contributed. Banks’ cost of funds and balance sheet situations also contributed to the tightening, albeit to a lesser extent, with banks’ lower liquidity positions being the main driver. The net tightening moderated slightly compared with the previous quarter but remained above its historical average (9%; see Overview table) for the sixth quarter in a row since the second quarter of 2022. The net tightening was slightly larger than banks had expected in the previous quarter (10%). In the fourth quarter of 2023, euro area bank\n",
      "\n",
      "Taille de l'article (nombre de caractères):\n",
      " 79456\n"
     ]
    }
   ],
   "source": [
    "print(data[\"content\"].iloc[2][:5000])\n",
    "print(\"\\nTaille de l'article (nombre de caractères):\\n\",len(data[\"content\"].iloc[2]))"
   ]
  }
 ],
 "metadata": {
  "kernelspec": {
   "display_name": ".venv",
   "language": "python",
   "name": "python3"
  },
  "language_info": {
   "codemirror_mode": {
    "name": "ipython",
    "version": 3
   },
   "file_extension": ".py",
   "mimetype": "text/x-python",
   "name": "python",
   "nbconvert_exporter": "python",
   "pygments_lexer": "ipython3",
   "version": "3.11.9"
  }
 },
 "nbformat": 4,
 "nbformat_minor": 2
}
