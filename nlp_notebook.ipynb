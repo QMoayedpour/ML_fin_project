{
 "cells": [
  {
   "cell_type": "code",
   "execution_count": 2,
   "metadata": {},
   "outputs": [
    {
     "name": "stderr",
     "output_type": "stream",
     "text": [
      "/home/onyxia/work/.venv/lib/python3.12/site-packages/tqdm/auto.py:21: TqdmWarning: IProgress not found. Please update jupyter and ipywidgets. See https://ipywidgets.readthedocs.io/en/stable/user_install.html\n",
      "  from .autonotebook import tqdm as notebook_tqdm\n"
     ]
    }
   ],
   "source": [
    "import pandas as pd\n",
    "import matplotlib.pyplot as plt\n",
    "import numpy as np\n",
    "import yfinance as yf\n",
    "import pandas as pd\n",
    "from utils.ecb_rates import get_ecb_rates\n",
    "from sklearn.feature_extraction.text import TfidfVectorizer\n",
    "from sklearn.pipeline import Pipeline\n",
    "from utils.viz import bar, set_axis\n",
    "from transformers import BertTokenizer, BertForSequenceClassification\n",
    "from transformers import pipeline\n",
    "import torch\n",
    "from utils.utils import get_delta, get_previous_values\n",
    "from sklearn.linear_model import ElasticNet\n",
    "from sklearn.model_selection import train_test_split\n",
    "from collections import Counter"
   ]
  },
  {
   "cell_type": "markdown",
   "metadata": {},
   "source": [
    "# Première Approche\n",
    "\n",
    "De manière similaire a ce qui a été fait en cours, on peut récupérer les termes importants du texte à l'aide du TFIDF des mots."
   ]
  },
  {
   "cell_type": "code",
   "execution_count": 3,
   "metadata": {},
   "outputs": [],
   "source": [
    "ecb_rates = get_ecb_rates()\n",
    "ecb_press = pd.read_csv('data/data_glob.csv', index_col=\"date\", parse_dates=True)"
   ]
  },
  {
   "cell_type": "code",
   "execution_count": 4,
   "metadata": {},
   "outputs": [],
   "source": [
    "ecb_rates = get_delta(ecb_rates, \"Deposit_Level_Alt\")\n",
    "ecb_press[\"content\"] = ecb_press[\"content\"].fillna(\"Error\")\n",
    "ecb_press = ecb_press[ecb_press[\"content\"]!=\"Error\"]"
   ]
  },
  {
   "cell_type": "code",
   "execution_count": 4,
   "metadata": {},
   "outputs": [
    {
     "name": "stdout",
     "output_type": "stream",
     "text": [
      "                  feature  coefficient  abs_coefficient\n",
      "999                yields          0.0              0.0\n",
      "0                 ability          0.0              0.0\n",
      "1                    able          0.0              0.0\n",
      "2                  access          0.0              0.0\n",
      "3               according          0.0              0.0\n",
      "4                 account          0.0              0.0\n",
      "5               accounted          0.0              0.0\n",
      "6              accounting          0.0              0.0\n",
      "960                upward          0.0              0.0\n",
      "961                   use          0.0              0.0\n",
      "962                  used          0.0              0.0\n",
      "963                  user          0.0              0.0\n",
      "964                 users          0.0              0.0\n",
      "965                 using          0.0              0.0\n",
      "966             valuation          0.0              0.0\n",
      "967                 value          0.0              0.0\n",
      "952             unchanged          0.0              0.0\n",
      "953            underlying          0.0              0.0\n",
      "954  underlying inflation          0.0              0.0\n",
      "955          unemployment          0.0              0.0\n"
     ]
    }
   ],
   "source": [
    "def aggregate_articles_for_date(date, ecb_press, window_days=14):\n",
    "    start_date = date - pd.Timedelta(days=window_days)\n",
    "    mask = (ecb_press.index >= start_date) & (ecb_press.index <= date)\n",
    "    articles_in_window = ecb_press.loc[mask, 'content']\n",
    "    return \" \".join(articles_in_window)\n",
    "\n",
    "ecb_press_agg = []\n",
    "for rate_date in ecb_rates.index:\n",
    "    aggregated_content = aggregate_articles_for_date(rate_date, ecb_press, window_days=14)\n",
    "    ecb_press_agg.append(aggregated_content)\n",
    "\n",
    "ecb_press_agg_df = pd.DataFrame({\n",
    "    'content': ecb_press_agg\n",
    "}, index=ecb_rates.index)\n",
    "\n",
    "vectorizer = TfidfVectorizer(\n",
    "    stop_words=\"english\",\n",
    "    min_df=5,\n",
    "    max_df=0.8,\n",
    "    ngram_range=(1, 3),\n",
    "    token_pattern=r\"\\b[a-zA-Z]{3,}\\b\",\n",
    "    max_features=1000\n",
    ")\n",
    "\n",
    "X_ = vectorizer.fit_transform(ecb_press_agg_df[\"content\"].values)\n",
    "\n",
    "X_df = pd.DataFrame(X_.toarray(), columns=vectorizer.get_feature_names_out(), index=ecb_press_agg_df.index)\n",
    "\n",
    "dates_communes = X_df.index.intersection(ecb_rates.index)\n",
    "\n",
    "X_aligned = X_df.loc[dates_communes]\n",
    "y_aligned = ecb_rates.loc[dates_communes, 'dummy_Deposit_Level_Alt']\n",
    "\n",
    "X = X_aligned\n",
    "y = y_aligned\n",
    "\n",
    "X_train, X_test, y_train, y_test = train_test_split(X, y, test_size=0.2, random_state=42)\n",
    "\n",
    "elastic_net_model = ElasticNet(alpha=1.0, l1_ratio=0.5)\n",
    "elastic_net_model.fit(X_train, y_train)\n",
    "\n",
    "coef = elastic_net_model.coef_\n",
    "feature_names = vectorizer.get_feature_names_out()\n",
    "\n",
    "coef_df = pd.DataFrame({\n",
    "    'feature': feature_names,\n",
    "    'coefficient': coef\n",
    "})\n",
    "\n",
    "coef_df['abs_coefficient'] = coef_df['coefficient'].abs()\n",
    "coef_df = coef_df.sort_values(by='abs_coefficient', ascending=False)\n",
    "\n",
    "print(coef_df.head(20))\n",
    "\n"
   ]
  },
  {
   "cell_type": "code",
   "execution_count": 5,
   "metadata": {},
   "outputs": [],
   "source": [
    "#TODO Aller un peu plus loin la jai pas mis en forme mais globalement on fance dans le mur en faisant ça"
   ]
  },
  {
   "cell_type": "markdown",
   "metadata": {},
   "source": [
    "## Utilisation d'un modèle Pré entrainé BERT\n",
    "\n",
    "On aimerait faire de la sentiment analysis mais soit en non supervisé, soit à l'aide du transfer learning car on ne possède clairement pas assez de données pour entraîner et tester un modèle de sentiment analysis."
   ]
  },
  {
   "cell_type": "code",
   "execution_count": 5,
   "metadata": {},
   "outputs": [
    {
     "name": "stderr",
     "output_type": "stream",
     "text": [
      "Device set to use cuda:0\n"
     ]
    }
   ],
   "source": [
    "model = BertForSequenceClassification.from_pretrained(\"ahmedrachid/FinancialBERT-Sentiment-Analysis\", num_labels=3)\n",
    "tokenizer = BertTokenizer.from_pretrained(\"ahmedrachid/FinancialBERT-Sentiment-Analysis\")\n",
    "\n",
    "device = 0 if torch.cuda.is_available() else -1  # 0 pour utiliser CUDA, -1 pour utiliser le CPU\n",
    "\n",
    "model.to(device)\n",
    "\n",
    "nlp = pipeline(\"sentiment-analysis\", model=model, tokenizer=tokenizer, device=device)\n",
    "\n"
   ]
  },
  {
   "cell_type": "markdown",
   "metadata": {},
   "source": [
    "Les textes sont plus longs que 512 \"tokens\" on doit donc faire quelques pre processing"
   ]
  },
  {
   "cell_type": "code",
   "execution_count": 7,
   "metadata": {},
   "outputs": [],
   "source": [
    "def split_text_into_chunks(text, max_length=500):\n",
    "    tokens = tokenizer.encode(text, truncation=False)\n",
    "\n",
    "    chunks = [tokens[i:i+max_length] for i in range(0, len(tokens), max_length)]\n",
    "    return chunks\n",
    "\n",
    "\n",
    "def apply_bert_to_text(text, return_scores=False):\n",
    "    chunks = split_text_into_chunks(text)\n",
    "    results = []\n",
    "    for chunk in chunks:\n",
    "\n",
    "        decoded_text = tokenizer.decode(chunk)\n",
    "        result = nlp(decoded_text)\n",
    "        results.append(result)\n",
    "    \n",
    "    if return_scores:\n",
    "        return results\n",
    "    \n",
    "    labels = [item[0]['label'] for item in results]\n",
    "\n",
    "    return Counter(labels)"
   ]
  },
  {
   "cell_type": "markdown",
   "metadata": {},
   "source": [
    "La plupart des textes sont très \"neutres\", généralement on obtient des trucs genre 'neutral': beaucoup, \"positif\":1 \"negatif\": 0"
   ]
  },
  {
   "cell_type": "code",
   "execution_count": 10,
   "metadata": {},
   "outputs": [],
   "source": [
    "# TODO Extraire un compte de positive ou negative et regarder si on peut trouver des correlations avec \n",
    "# la variable d'outome, si non -> réstreindre les données, si toujours aucune correl -> suicide"
   ]
  },
  {
   "cell_type": "code",
   "execution_count": 8,
   "metadata": {},
   "outputs": [],
   "source": [
    "from datasets import Dataset"
   ]
  },
  {
   "cell_type": "code",
   "execution_count": 9,
   "metadata": {},
   "outputs": [
    {
     "name": "stderr",
     "output_type": "stream",
     "text": [
      "Map: 100%|██████████| 1536/1536 [11:28<00:00,  2.23 examples/s]\n"
     ]
    }
   ],
   "source": [
    "dataset = Dataset.from_pandas(ecb_press)\n",
    "\n",
    "def process_row(row):\n",
    "    return apply_bert_to_text(row[\"content\"])\n",
    "\n",
    "dataset = dataset.map(lambda row: {\"count\": process_row(row)}, batched=False)\n"
   ]
  },
  {
   "cell_type": "code",
   "execution_count": 146,
   "metadata": {},
   "outputs": [],
   "source": [
    "df_processed = dataset.to_pandas()\n",
    "df = df_processed.copy()\n",
    "df.index = ecb_press.index # dataset a suppr l'index donc on le remet\n",
    "ecb_extanded = ecb_rates.copy()\n",
    "ecb_rates[\"Date\"] = ecb_rates.index.values\n",
    "\n",
    "ecb_extanded[\"val_prev\"] = ecb_rates[\"Date\"].apply(lambda x: get_previous_values(x, 7, df, \"count\")) # On recup \n",
    "# previous articles (ici 7 jours avant)"
   ]
  },
  {
   "cell_type": "code",
   "execution_count": 147,
   "metadata": {},
   "outputs": [],
   "source": [
    "def sum_keys(dict_list):\n",
    "    totals = {'negative': 0, 'neutral': 0, 'positive': 0}\n",
    "    for d in dict_list:\n",
    "        for key in totals.keys():\n",
    "            totals[key] += d.get(key, 0) or 0\n",
    "    return totals\n",
    "\n",
    "ecb_temp = ecb_extanded[\"val_prev\"].apply(sum_keys).apply(pd.Series)\n",
    "\n",
    "df_2 = pd.concat([ecb_extanded, ecb_temp], axis=1)  # On recupère pour chaque article le \"count\" de positive\n",
    "# negative et neutral"
   ]
  },
  {
   "cell_type": "code",
   "execution_count": 148,
   "metadata": {},
   "outputs": [],
   "source": [
    "def normalise(array):\n",
    "    return (array-array.min())/(array.max()-array.min())"
   ]
  },
  {
   "cell_type": "code",
   "execution_count": 149,
   "metadata": {},
   "outputs": [],
   "source": [
    "df_reduced = df_2.loc[ecb_press.iloc[[-1]].index[0]:] # On récupère que a partir\n",
    "# des dates pour lesquelles on a au moins un article"
   ]
  },
  {
   "cell_type": "code",
   "execution_count": 150,
   "metadata": {},
   "outputs": [
    {
     "data": {
      "text/plain": [
       "Date\n",
       "2018-11-20     1.0\n",
       "2018-11-21     1.0\n",
       "2018-11-22     1.0\n",
       "2018-11-23     1.0\n",
       "2018-11-24     1.0\n",
       "              ... \n",
       "2024-12-10     3.0\n",
       "2024-12-11     2.0\n",
       "2024-12-12    15.0\n",
       "2024-12-13    15.0\n",
       "2024-12-18    15.0\n",
       "Name: positive, Length: 2217, dtype: float64"
      ]
     },
     "execution_count": 150,
     "metadata": {},
     "output_type": "execute_result"
    }
   ],
   "source": [
    "df_reduced[\"positive\"]"
   ]
  },
  {
   "cell_type": "code",
   "execution_count": 151,
   "metadata": {},
   "outputs": [],
   "source": [
    "neutral = df_reduced[\"neutral\"]"
   ]
  },
  {
   "cell_type": "code",
   "execution_count": 152,
   "metadata": {},
   "outputs": [
    {
     "name": "stderr",
     "output_type": "stream",
     "text": [
      "/tmp/ipykernel_13984/2548861757.py:1: SettingWithCopyWarning: \n",
      "A value is trying to be set on a copy of a slice from a DataFrame.\n",
      "Try using .loc[row_indexer,col_indexer] = value instead\n",
      "\n",
      "See the caveats in the documentation: https://pandas.pydata.org/pandas-docs/stable/user_guide/indexing.html#returning-a-view-versus-a-copy\n",
      "  df_reduced[\"test_pos\"] = df_reduced[\"positive\"]/mean\n"
     ]
    }
   ],
   "source": [
    "df_reduced[\"test_pos\"] = df_reduced[\"positive\"]/mean"
   ]
  },
  {
   "cell_type": "code",
   "execution_count": 153,
   "metadata": {},
   "outputs": [
    {
     "name": "stderr",
     "output_type": "stream",
     "text": [
      "/tmp/ipykernel_13984/1205139154.py:1: SettingWithCopyWarning: \n",
      "A value is trying to be set on a copy of a slice from a DataFrame.\n",
      "Try using .loc[row_indexer,col_indexer] = value instead\n",
      "\n",
      "See the caveats in the documentation: https://pandas.pydata.org/pandas-docs/stable/user_guide/indexing.html#returning-a-view-versus-a-copy\n",
      "  df_reduced[\"test_neg\"] = df_reduced[\"negative\"]/mean\n"
     ]
    }
   ],
   "source": [
    "df_reduced[\"test_neg\"] = df_reduced[\"negative\"]/mean"
   ]
  },
  {
   "cell_type": "code",
   "execution_count": 154,
   "metadata": {},
   "outputs": [
    {
     "name": "stderr",
     "output_type": "stream",
     "text": [
      "[*********************100%***********************]  1 of 1 completed\n"
     ]
    }
   ],
   "source": [
    "euro_stoxx_50 = yf.download('^STOXX50E',\n",
    "                            start = df_reduced.index.min(),\n",
    "                            end = df_reduced.index.max()\n",
    "                            )['Close']"
   ]
  },
  {
   "cell_type": "code",
   "execution_count": null,
   "metadata": {},
   "outputs": [
    {
     "data": {
      "text/plain": [
       "[<matplotlib.lines.Line2D at 0x7f43c8b14680>]"
      ]
     },
     "execution_count": 155,
     "metadata": {},
     "output_type": "execute_result"
    },
    {
     "data": {
      "image/png": "[encoded data removed]",
      "text/plain": [
       "<Figure size 640x480 with 1 Axes>"
      ]
     },
     "metadata": {},
     "output_type": "display_data"
    }
   ],
   "source": [
    "plt.plot(-normalise(df_reduced[\"test_neg\"]), c=\"r\",alpha=0.5)\n",
    "plt.plot(normalise(df_reduced[\"test_pos\"]), c=\"b\", alpha=0.5)\n",
    "#plt.plot(normalise(df_reduced[\"positive\"].to_numpy()))\n",
    "plt.plot(normalise(euro_stoxx_50.iloc[:,0].fillna(0)), c=\"green\")\n",
    "#plt.plot(normalise(df_reduced[\"dummy_Deposit_Level_Alt\"]), alpha=0.5)"
   ]
  },
  {
   "cell_type": "markdown",
   "metadata": {},
   "source": []
  }
 ],
 "metadata": {
  "kernelspec": {
   "display_name": ".venv",
   "language": "python",
   "name": "python3"
  },
  "language_info": {
   "codemirror_mode": {
    "name": "ipython",
    "version": 3
   },
   "file_extension": ".py",
   "mimetype": "text/x-python",
   "name": "python",
   "nbconvert_exporter": "python",
   "pygments_lexer": "ipython3",
   "version": "3.12.6"
  }
 },
 "nbformat": 4,
 "nbformat_minor": 2
}
